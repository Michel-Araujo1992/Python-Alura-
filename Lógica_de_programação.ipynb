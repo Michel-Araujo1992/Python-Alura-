{
  "nbformat": 4,
  "nbformat_minor": 0,
  "metadata": {
    "colab": {
      "name": "Lógica de programação.ipynb",
      "provenance": [],
      "authorship_tag": "ABX9TyN98CskqUw0dVKvgki9iz4C",
      "include_colab_link": true
    },
    "kernelspec": {
      "name": "python3",
      "display_name": "Python 3"
    },
    "language_info": {
      "name": "python"
    }
  },
  "cells": [
    {
      "cell_type": "markdown",
      "metadata": {
        "id": "view-in-github",
        "colab_type": "text"
      },
      "source": [
        "<a href=\"https://colab.research.google.com/github/Michel-Araujo1992/Python-Alura-/blob/main/L%C3%B3gica_de_programa%C3%A7%C3%A3o.ipynb\" target=\"_parent\"><img src=\"https://colab.research.google.com/assets/colab-badge.svg\" alt=\"Open In Colab\"/></a>"
      ]
    },
    {
      "cell_type": "markdown",
      "metadata": {
        "id": "7VRYC03yQ3_a"
      },
      "source": [
        "## Lógica de programação com Python"
      ]
    },
    {
      "cell_type": "code",
      "metadata": {
        "colab": {
          "base_uri": "https://localhost:8080/"
        },
        "id": "lCrVmHaPQgcQ",
        "outputId": "243c0a69-005f-490b-fd3f-a06f74a83e2d"
      },
      "source": [
        "1+1"
      ],
      "execution_count": 1,
      "outputs": [
        {
          "output_type": "execute_result",
          "data": {
            "text/plain": [
              "2"
            ]
          },
          "metadata": {
            "tags": []
          },
          "execution_count": 1
        }
      ]
    },
    {
      "cell_type": "code",
      "metadata": {
        "id": "1LsjcHsTQ69L"
      },
      "source": [
        "nome = 'Michel'"
      ],
      "execution_count": 2,
      "outputs": []
    },
    {
      "cell_type": "code",
      "metadata": {
        "colab": {
          "base_uri": "https://localhost:8080/",
          "height": 35
        },
        "id": "Io7Ep--aR-KF",
        "outputId": "41af7fc0-fec2-4bac-ce6f-73c04bdae7bf"
      },
      "source": [
        "nome"
      ],
      "execution_count": 5,
      "outputs": [
        {
          "output_type": "execute_result",
          "data": {
            "application/vnd.google.colaboratory.intrinsic+json": {
              "type": "string"
            },
            "text/plain": [
              "'Michel'"
            ]
          },
          "metadata": {
            "tags": []
          },
          "execution_count": 5
        }
      ]
    },
    {
      "cell_type": "code",
      "metadata": {
        "colab": {
          "base_uri": "https://localhost:8080/"
        },
        "id": "mXVz7SlOSFB6",
        "outputId": "16e6ba63-5d34-4232-b9ee-eb079103bccc"
      },
      "source": [
        "print('O nome é Michel')"
      ],
      "execution_count": 11,
      "outputs": [
        {
          "output_type": "stream",
          "text": [
            "O nome é Michel\n"
          ],
          "name": "stdout"
        }
      ]
    },
    {
      "cell_type": "code",
      "metadata": {
        "id": "qEI1-hPYTiSh"
      },
      "source": [
        "idade = '28'"
      ],
      "execution_count": 15,
      "outputs": []
    },
    {
      "cell_type": "code",
      "metadata": {
        "colab": {
          "base_uri": "https://localhost:8080/"
        },
        "id": "KlzPxTmCTCD6",
        "outputId": "6f020a5b-622e-42ad-9ce7-fbf52921f76c"
      },
      "source": [
        "print(f'O nome é {nome} e a sua idade é {idade} anos')"
      ],
      "execution_count": 16,
      "outputs": [
        {
          "output_type": "stream",
          "text": [
            "O nome é Michel e a sua idade é 28 anos\n"
          ],
          "name": "stdout"
        }
      ]
    },
    {
      "cell_type": "code",
      "metadata": {
        "id": "hwl0L8JXTpzv"
      },
      "source": [
        ""
      ],
      "execution_count": null,
      "outputs": []
    },
    {
      "cell_type": "markdown",
      "metadata": {
        "id": "J7gwGj5fT-No"
      },
      "source": [
        "# Criando minha primeira Função"
      ]
    },
    {
      "cell_type": "code",
      "metadata": {
        "id": "gyet9XhwUEig"
      },
      "source": [
        "def saudacao (): \n",
        "  nome = input('Qual o seu nome? ' )\n",
        "  print(f'Olá {nome}')"
      ],
      "execution_count": 23,
      "outputs": []
    },
    {
      "cell_type": "code",
      "metadata": {
        "colab": {
          "base_uri": "https://localhost:8080/"
        },
        "id": "jkx7eLYrUrCf",
        "outputId": "5635a40b-c6fa-47aa-e330-46661e036034"
      },
      "source": [
        "saudacao()"
      ],
      "execution_count": 24,
      "outputs": [
        {
          "output_type": "stream",
          "text": [
            "Qual o seu nome? Michel\n",
            "Olá Michel\n"
          ],
          "name": "stdout"
        }
      ]
    },
    {
      "cell_type": "code",
      "metadata": {
        "id": "SV9MVS1LU4kQ"
      },
      "source": [
        "def profissao ():\n",
        "  profissao = input('Qual a sua profissão? ')\n",
        "  print(f'Sua profissão é {profissao}')"
      ],
      "execution_count": 27,
      "outputs": []
    },
    {
      "cell_type": "code",
      "metadata": {
        "colab": {
          "base_uri": "https://localhost:8080/"
        },
        "id": "jxwlnTPNXq1m",
        "outputId": "c0e7da53-f011-4277-ae76-35e6e418c69e"
      },
      "source": [
        "profissao()"
      ],
      "execution_count": 28,
      "outputs": [
        {
          "output_type": "stream",
          "text": [
            "Qual a sua profissão? Analista de Projetos\n",
            "Sua profissão é Analista de Projetos\n"
          ],
          "name": "stdout"
        }
      ]
    },
    {
      "cell_type": "code",
      "metadata": {
        "id": "ghJH1g2aXv9X"
      },
      "source": [
        ""
      ],
      "execution_count": 28,
      "outputs": []
    }
  ]
}