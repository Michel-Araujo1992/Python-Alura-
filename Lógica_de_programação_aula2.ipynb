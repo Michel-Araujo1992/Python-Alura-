{
  "nbformat": 4,
  "nbformat_minor": 0,
  "metadata": {
    "colab": {
      "name": "Lógica de programação.ipynb",
      "provenance": [],
      "authorship_tag": "ABX9TyPTFi/RGxHvTPAA3elWec+L",
      "include_colab_link": true
    },
    "kernelspec": {
      "name": "python3",
      "display_name": "Python 3"
    },
    "language_info": {
      "name": "python"
    }
  },
  "cells": [
    {
      "cell_type": "markdown",
      "metadata": {
        "id": "view-in-github",
        "colab_type": "text"
      },
      "source": [
        "<a href=\"https://colab.research.google.com/github/Michel-Araujo1992/Python-Alura-/blob/main/L%C3%B3gica_de_programa%C3%A7%C3%A3o_aula2.ipynb\" target=\"_parent\"><img src=\"https://colab.research.google.com/assets/colab-badge.svg\" alt=\"Open In Colab\"/></a>"
      ]
    },
    {
      "cell_type": "markdown",
      "metadata": {
        "id": "7VRYC03yQ3_a"
      },
      "source": [
        "## Lógica de programação com Python"
      ]
    },
    {
      "cell_type": "code",
      "metadata": {
        "colab": {
          "base_uri": "https://localhost:8080/"
        },
        "id": "lCrVmHaPQgcQ",
        "outputId": "243c0a69-005f-490b-fd3f-a06f74a83e2d"
      },
      "source": [
        "1+1"
      ],
      "execution_count": 1,
      "outputs": [
        {
          "output_type": "execute_result",
          "data": {
            "text/plain": [
              "2"
            ]
          },
          "metadata": {
            "tags": []
          },
          "execution_count": 1
        }
      ]
    },
    {
      "cell_type": "code",
      "metadata": {
        "id": "1LsjcHsTQ69L"
      },
      "source": [
        "nome = 'Michel'"
      ],
      "execution_count": 2,
      "outputs": []
    },
    {
      "cell_type": "code",
      "metadata": {
        "colab": {
          "base_uri": "https://localhost:8080/",
          "height": 35
        },
        "id": "Io7Ep--aR-KF",
        "outputId": "41af7fc0-fec2-4bac-ce6f-73c04bdae7bf"
      },
      "source": [
        "nome"
      ],
      "execution_count": 5,
      "outputs": [
        {
          "output_type": "execute_result",
          "data": {
            "application/vnd.google.colaboratory.intrinsic+json": {
              "type": "string"
            },
            "text/plain": [
              "'Michel'"
            ]
          },
          "metadata": {
            "tags": []
          },
          "execution_count": 5
        }
      ]
    },
    {
      "cell_type": "code",
      "metadata": {
        "colab": {
          "base_uri": "https://localhost:8080/"
        },
        "id": "mXVz7SlOSFB6",
        "outputId": "16e6ba63-5d34-4232-b9ee-eb079103bccc"
      },
      "source": [
        "print('O nome é Michel')"
      ],
      "execution_count": 11,
      "outputs": [
        {
          "output_type": "stream",
          "text": [
            "O nome é Michel\n"
          ],
          "name": "stdout"
        }
      ]
    },
    {
      "cell_type": "code",
      "metadata": {
        "id": "qEI1-hPYTiSh"
      },
      "source": [
        "idade = '28'"
      ],
      "execution_count": 15,
      "outputs": []
    },
    {
      "cell_type": "code",
      "metadata": {
        "colab": {
          "base_uri": "https://localhost:8080/"
        },
        "id": "KlzPxTmCTCD6",
        "outputId": "6f020a5b-622e-42ad-9ce7-fbf52921f76c"
      },
      "source": [
        "print(f'O nome é {nome} e a sua idade é {idade} anos')"
      ],
      "execution_count": 16,
      "outputs": [
        {
          "output_type": "stream",
          "text": [
            "O nome é Michel e a sua idade é 28 anos\n"
          ],
          "name": "stdout"
        }
      ]
    },
    {
      "cell_type": "code",
      "metadata": {
        "id": "hwl0L8JXTpzv"
      },
      "source": [
        ""
      ],
      "execution_count": null,
      "outputs": []
    },
    {
      "cell_type": "markdown",
      "metadata": {
        "id": "J7gwGj5fT-No"
      },
      "source": [
        "# Criando minha primeira Função"
      ]
    },
    {
      "cell_type": "code",
      "metadata": {
        "id": "gyet9XhwUEig"
      },
      "source": [
        "def saudacao (): \n",
        "  nome = input('Qual o seu nome? ' )\n",
        "  print(f'Olá {nome}')"
      ],
      "execution_count": 23,
      "outputs": []
    },
    {
      "cell_type": "code",
      "metadata": {
        "colab": {
          "base_uri": "https://localhost:8080/"
        },
        "id": "jkx7eLYrUrCf",
        "outputId": "5635a40b-c6fa-47aa-e330-46661e036034"
      },
      "source": [
        "saudacao()"
      ],
      "execution_count": 24,
      "outputs": [
        {
          "output_type": "stream",
          "text": [
            "Qual o seu nome? Michel\n",
            "Olá Michel\n"
          ],
          "name": "stdout"
        }
      ]
    },
    {
      "cell_type": "code",
      "metadata": {
        "id": "SV9MVS1LU4kQ"
      },
      "source": [
        "def profissao ():\n",
        "  profissao = input('Qual a sua profissão? ')\n",
        "  print(f'Sua profissão é {profissao}')"
      ],
      "execution_count": 27,
      "outputs": []
    },
    {
      "cell_type": "code",
      "metadata": {
        "colab": {
          "base_uri": "https://localhost:8080/"
        },
        "id": "jxwlnTPNXq1m",
        "outputId": "c0e7da53-f011-4277-ae76-35e6e418c69e"
      },
      "source": [
        "profissao()"
      ],
      "execution_count": 28,
      "outputs": [
        {
          "output_type": "stream",
          "text": [
            "Qual a sua profissão? Analista de Projetos\n",
            "Sua profissão é Analista de Projetos\n"
          ],
          "name": "stdout"
        }
      ]
    },
    {
      "cell_type": "code",
      "metadata": {
        "id": "hAt-nZdPKstl"
      },
      "source": [
        ""
      ],
      "execution_count": null,
      "outputs": []
    },
    {
      "cell_type": "markdown",
      "metadata": {
        "id": "GCQR58-HKprq"
      },
      "source": [
        "# Parâmetros\n"
      ]
    },
    {
      "cell_type": "code",
      "metadata": {
        "id": "ghJH1g2aXv9X"
      },
      "source": [
        "nome = 'Nani'"
      ],
      "execution_count": 10,
      "outputs": []
    },
    {
      "cell_type": "code",
      "metadata": {
        "id": "4s4OEOyyImZ3"
      },
      "source": [
        "def saudacao_com_parametros(nome_da_pessoa):\n",
        "  print(f'ola {nome_da_pessoa}')"
      ],
      "execution_count": 8,
      "outputs": []
    },
    {
      "cell_type": "code",
      "metadata": {
        "colab": {
          "base_uri": "https://localhost:8080/"
        },
        "id": "BpuEbTN0IrNw",
        "outputId": "77c43716-8844-4f3d-e835-53fd5040b03f"
      },
      "source": [
        "saudacao_com_parametros(nome)"
      ],
      "execution_count": 9,
      "outputs": [
        {
          "output_type": "stream",
          "text": [
            "ola Nani\n"
          ],
          "name": "stdout"
        }
      ]
    },
    {
      "cell_type": "code",
      "metadata": {
        "id": "wwjQ5QbwJLLa"
      },
      "source": [
        ""
      ],
      "execution_count": 10,
      "outputs": []
    },
    {
      "cell_type": "markdown",
      "metadata": {
        "id": "irKpl6mDLk_9"
      },
      "source": [
        "# Condicional"
      ]
    },
    {
      "cell_type": "code",
      "metadata": {
        "id": "X38EiGiQLpRn"
      },
      "source": [
        "idade = 20"
      ],
      "execution_count": 11,
      "outputs": []
    },
    {
      "cell_type": "code",
      "metadata": {
        "colab": {
          "base_uri": "https://localhost:8080/"
        },
        "id": "vZ6xeNvlLsuk",
        "outputId": "bf959458-7e02-4ae3-f077-fd92e9fea511"
      },
      "source": [
        "def verifica_se_pode_dirigir(idade):\n",
        "  if idade >= 18:\n",
        "   print('Tem permissão para dirigir')\n",
        "  else: \n",
        "    print('Não tem permissão para dirigir')\n",
        "\n",
        "verifica_se_pode_dirigir(idade)"
      ],
      "execution_count": 15,
      "outputs": [
        {
          "output_type": "stream",
          "text": [
            "Tem permissão para dirigir\n"
          ],
          "name": "stdout"
        }
      ]
    },
    {
      "cell_type": "markdown",
      "metadata": {
        "id": "WsuBiREsOZu-"
      },
      "source": [
        "# Convertendo tipo para inteiro"
      ]
    },
    {
      "cell_type": "code",
      "metadata": {
        "colab": {
          "base_uri": "https://localhost:8080/"
        },
        "id": "ytrc2oDRMO1T",
        "outputId": "b36857b8-dcb3-47f4-e422-fd963a85e7d3"
      },
      "source": [
        "def verifica_se_pode_dirigir_sem_parametros():\n",
        "  idade = input('Qual a sua idade')\n",
        "  idade = int(idade)\n",
        "  if idade >= 18:\n",
        "    print('Tem permissão para dirigir')\n",
        "  else:\n",
        "    print('Não tem permissão para dirigir')\n",
        "\n",
        "verifica_se_pode_dirigir_sem_parametros() "
      ],
      "execution_count": 17,
      "outputs": [
        {
          "output_type": "stream",
          "text": [
            "Qual a sua idade10\n",
            "Não tem permissão para dirigir\n"
          ],
          "name": "stdout"
        }
      ]
    },
    {
      "cell_type": "code",
      "metadata": {
        "id": "K7TpGwdSNn-l"
      },
      "source": [
        ""
      ],
      "execution_count": null,
      "outputs": []
    },
    {
      "cell_type": "markdown",
      "metadata": {
        "id": "T-tsQTx-Payw"
      },
      "source": [
        "# Faça como eu fiz"
      ]
    },
    {
      "cell_type": "code",
      "metadata": {
        "id": "hNZVLlMzQCqZ"
      },
      "source": [
        "  idade = 17"
      ],
      "execution_count": 29,
      "outputs": []
    },
    {
      "cell_type": "code",
      "metadata": {
        "colab": {
          "base_uri": "https://localhost:8080/"
        },
        "id": "Fh53ME6WOc5E",
        "outputId": "109dedda-27ef-43b2-9861-826b91c93ffc"
      },
      "source": [
        "def verifica_se_pode_dirigir(idade):\n",
        "  if idade >= 18:\n",
        "    print('Você pode dirigir!')\n",
        "  else:\n",
        "    print('Você não pode dirigir!')\n",
        "\n",
        "verifica_se_pode_dirigir(idade)\n"
      ],
      "execution_count": 30,
      "outputs": [
        {
          "output_type": "stream",
          "text": [
            "Você não pode dirigir!\n"
          ],
          "name": "stdout"
        }
      ]
    },
    {
      "cell_type": "code",
      "metadata": {
        "colab": {
          "base_uri": "https://localhost:8080/"
        },
        "id": "7xYJq_faQJ7h",
        "outputId": "49ecda89-2e47-45c8-a91a-4579a606fb7c"
      },
      "source": [
        "def idade_dirigir():\n",
        "  idade = input('Digite a sua idade')\n",
        "  idade = int(idade)\n",
        "  if idade >= 18:\n",
        "    print('Você pode dirigir')\n",
        "  else:\n",
        "    print('Você não pode dirigir')\n",
        "\n",
        "idade_dirigir()"
      ],
      "execution_count": 35,
      "outputs": [
        {
          "output_type": "stream",
          "text": [
            "Digite a sua idade17\n",
            "Você não pode dirigir\n"
          ],
          "name": "stdout"
        }
      ]
    },
    {
      "cell_type": "code",
      "metadata": {
        "id": "WFNdDZmlSFwm"
      },
      "source": [
        ""
      ],
      "execution_count": null,
      "outputs": []
    }
  ]
}